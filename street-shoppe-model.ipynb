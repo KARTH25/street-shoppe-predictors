{
 "cells": [
  {
   "cell_type": "markdown",
   "metadata": {},
   "source": [
    "<h4>Required Libs</h4>"
   ]
  },
  {
   "cell_type": "code",
   "execution_count": 1,
   "metadata": {},
   "outputs": [],
   "source": [
    "import pandas as pd \n",
    "import numpy as np\n",
    "import datetime\n",
    "from sklearn.model_selection import train_test_split\n",
    "from sklearn.feature_selection import SelectKBest, chi2\n",
    "from sklearn.metrics import mean_absolute_error, mean_squared_error , r2_score ,accuracy_score, confusion_matrix, classification_report\n",
    "from sklearn.tree import DecisionTreeClassifier\n",
    "from sklearn.ensemble import RandomForestRegressor\n",
    "from sklearn.preprocessing import StandardScaler\n",
    "import joblib"
   ]
  },
  {
   "attachments": {},
   "cell_type": "markdown",
   "metadata": {},
   "source": [
    "<h4>Data cleaning and processing methods</h4>"
   ]
  },
  {
   "cell_type": "code",
   "execution_count": 2,
   "metadata": {},
   "outputs": [],
   "source": [
    "# Method to process dd/mm/yyyy hh:mm date format to standard date as dd-mm-yyyy\n",
    "def processDateTime(x):\n",
    "    splitDate = list(map(int, x.split(' ')[0].split('/'))) \n",
    "    return datetime.date(splitDate[2], splitDate[0], splitDate[1])"
   ]
  },
  {
   "attachments": {},
   "cell_type": "markdown",
   "metadata": {},
   "source": [
    "<h4>Data Cleaning and processing</h4>"
   ]
  },
  {
   "cell_type": "code",
   "execution_count": 3,
   "metadata": {},
   "outputs": [
    {
     "data": {
      "text/html": [
       "<div>\n",
       "<style scoped>\n",
       "    .dataframe tbody tr th:only-of-type {\n",
       "        vertical-align: middle;\n",
       "    }\n",
       "\n",
       "    .dataframe tbody tr th {\n",
       "        vertical-align: top;\n",
       "    }\n",
       "\n",
       "    .dataframe thead th {\n",
       "        text-align: right;\n",
       "    }\n",
       "</style>\n",
       "<table border=\"1\" class=\"dataframe\">\n",
       "  <thead>\n",
       "    <tr style=\"text-align: right;\">\n",
       "      <th></th>\n",
       "      <th>InvoiceNo</th>\n",
       "      <th>StockCode</th>\n",
       "      <th>Description</th>\n",
       "      <th>Quantity</th>\n",
       "      <th>InvoiceDate</th>\n",
       "      <th>UnitPrice</th>\n",
       "      <th>CustomerID</th>\n",
       "      <th>Country</th>\n",
       "    </tr>\n",
       "  </thead>\n",
       "  <tbody>\n",
       "    <tr>\n",
       "      <th>0</th>\n",
       "      <td>536365</td>\n",
       "      <td>85123A</td>\n",
       "      <td>WHITE HANGING HEART T-LIGHT HOLDER</td>\n",
       "      <td>6</td>\n",
       "      <td>2010-12-01</td>\n",
       "      <td>2.55</td>\n",
       "      <td>17850.0</td>\n",
       "      <td>United Kingdom</td>\n",
       "    </tr>\n",
       "    <tr>\n",
       "      <th>1</th>\n",
       "      <td>536365</td>\n",
       "      <td>71053</td>\n",
       "      <td>WHITE METAL LANTERN</td>\n",
       "      <td>6</td>\n",
       "      <td>2010-12-01</td>\n",
       "      <td>3.39</td>\n",
       "      <td>17850.0</td>\n",
       "      <td>United Kingdom</td>\n",
       "    </tr>\n",
       "    <tr>\n",
       "      <th>2</th>\n",
       "      <td>536365</td>\n",
       "      <td>84406B</td>\n",
       "      <td>CREAM CUPID HEARTS COAT HANGER</td>\n",
       "      <td>8</td>\n",
       "      <td>2010-12-01</td>\n",
       "      <td>2.75</td>\n",
       "      <td>17850.0</td>\n",
       "      <td>United Kingdom</td>\n",
       "    </tr>\n",
       "    <tr>\n",
       "      <th>3</th>\n",
       "      <td>536365</td>\n",
       "      <td>84029G</td>\n",
       "      <td>KNITTED UNION FLAG HOT WATER BOTTLE</td>\n",
       "      <td>6</td>\n",
       "      <td>2010-12-01</td>\n",
       "      <td>3.39</td>\n",
       "      <td>17850.0</td>\n",
       "      <td>United Kingdom</td>\n",
       "    </tr>\n",
       "    <tr>\n",
       "      <th>4</th>\n",
       "      <td>536365</td>\n",
       "      <td>84029E</td>\n",
       "      <td>RED WOOLLY HOTTIE WHITE HEART.</td>\n",
       "      <td>6</td>\n",
       "      <td>2010-12-01</td>\n",
       "      <td>3.39</td>\n",
       "      <td>17850.0</td>\n",
       "      <td>United Kingdom</td>\n",
       "    </tr>\n",
       "  </tbody>\n",
       "</table>\n",
       "</div>"
      ],
      "text/plain": [
       "  InvoiceNo StockCode                          Description  Quantity  \\\n",
       "0    536365    85123A   WHITE HANGING HEART T-LIGHT HOLDER         6   \n",
       "1    536365     71053                  WHITE METAL LANTERN         6   \n",
       "2    536365    84406B       CREAM CUPID HEARTS COAT HANGER         8   \n",
       "3    536365    84029G  KNITTED UNION FLAG HOT WATER BOTTLE         6   \n",
       "4    536365    84029E       RED WOOLLY HOTTIE WHITE HEART.         6   \n",
       "\n",
       "  InvoiceDate  UnitPrice  CustomerID         Country  \n",
       "0  2010-12-01       2.55     17850.0  United Kingdom  \n",
       "1  2010-12-01       3.39     17850.0  United Kingdom  \n",
       "2  2010-12-01       2.75     17850.0  United Kingdom  \n",
       "3  2010-12-01       3.39     17850.0  United Kingdom  \n",
       "4  2010-12-01       3.39     17850.0  United Kingdom  "
      ]
     },
     "execution_count": 3,
     "metadata": {},
     "output_type": "execute_result"
    }
   ],
   "source": [
    "# Reading CSV\n",
    "df = pd.read_csv('data.csv',encoding = 'unicode_escape')\n",
    "# Replacing empty CustomerID with nan\n",
    "df['CustomerID'].replace('', np.nan, inplace=True)\n",
    "# Replacing empty Description with nan\n",
    "df['Description'].replace('', np.nan, inplace=True)\n",
    "# droping all rows with NA\n",
    "df.dropna()\n",
    "# formatting date\n",
    "df['InvoiceDate'] = df['InvoiceDate'].apply(lambda x : processDateTime(x))\n",
    "# Displaying df\n",
    "df.head()"
   ]
  },
  {
   "attachments": {},
   "cell_type": "markdown",
   "metadata": {},
   "source": [
    "<h5>Data fomatting methods</h5>"
   ]
  },
  {
   "cell_type": "code",
   "execution_count": 20,
   "metadata": {},
   "outputs": [],
   "source": [
    "## Method to get the dataframe groupedBy customerId and format the data\n",
    "def formatData(df):\n",
    "    \n",
    "  customer_eligibility_data = [] \n",
    " \n",
    "  for name, group in df:\n",
    "    invoiceDates = list(set(group['InvoiceDate']))\n",
    "    purchase_streek = 0\n",
    "\n",
    "    for prevDate, currentDate in zip(invoiceDates, invoiceDates[1:]):\n",
    "       invoice_date_diff = currentDate - prevDate \n",
    "       if(invoice_date_diff.days < 15):\n",
    "            purchase_streek += 1\n",
    "\n",
    "    customer_eligibility_data.append({ \n",
    "        \"customerId\" : name, \n",
    "        \"purchase_by_invoice\" : len(set(group['InvoiceNo'])), \n",
    "        \"purchase_total_amount\" : abs(sum(group['UnitPrice'])),\n",
    "        \"purchase_streek\" : purchase_streek,\n",
    "        \"purchase_total_product_quantity\" : abs(sum(group['Quantity'])),\n",
    "        \"is_eligible_customer\" : 1 if (purchase_streek > 0 and abs(sum(group['UnitPrice'])) > 150) else 0,\n",
    "        \"offer_eligibility\" : purchase_streek * 2 if (purchase_streek > 0) else 0\n",
    "    })\n",
    "\n",
    "## and abs(sum(group['UnitPrice'])) > 150\n",
    "\n",
    "  return pd.DataFrame(columns=['customerId','purchase_by_invoice','purchase_total_amount','purchase_streek','purchase_total_product_quantity','is_eligible_customer','offer_eligibility'], data=customer_eligibility_data)"
   ]
  },
  {
   "cell_type": "markdown",
   "metadata": {},
   "source": [
    "<h5>Data Formatting</h5>"
   ]
  },
  {
   "cell_type": "code",
   "execution_count": 41,
   "metadata": {},
   "outputs": [
    {
     "data": {
      "text/html": [
       "<div>\n",
       "<style scoped>\n",
       "    .dataframe tbody tr th:only-of-type {\n",
       "        vertical-align: middle;\n",
       "    }\n",
       "\n",
       "    .dataframe tbody tr th {\n",
       "        vertical-align: top;\n",
       "    }\n",
       "\n",
       "    .dataframe thead th {\n",
       "        text-align: right;\n",
       "    }\n",
       "</style>\n",
       "<table border=\"1\" class=\"dataframe\">\n",
       "  <thead>\n",
       "    <tr style=\"text-align: right;\">\n",
       "      <th></th>\n",
       "      <th>customerId</th>\n",
       "      <th>purchase_by_invoice</th>\n",
       "      <th>purchase_total_amount</th>\n",
       "      <th>purchase_streek</th>\n",
       "      <th>purchase_total_product_quantity</th>\n",
       "      <th>is_eligible_customer</th>\n",
       "      <th>offer_eligibility</th>\n",
       "    </tr>\n",
       "  </thead>\n",
       "  <tbody>\n",
       "    <tr>\n",
       "      <th>0</th>\n",
       "      <td>12346.0</td>\n",
       "      <td>2</td>\n",
       "      <td>2.08</td>\n",
       "      <td>0</td>\n",
       "      <td>0</td>\n",
       "      <td>0</td>\n",
       "      <td>0</td>\n",
       "    </tr>\n",
       "    <tr>\n",
       "      <th>1</th>\n",
       "      <td>12347.0</td>\n",
       "      <td>7</td>\n",
       "      <td>481.21</td>\n",
       "      <td>3</td>\n",
       "      <td>2458</td>\n",
       "      <td>1</td>\n",
       "      <td>6</td>\n",
       "    </tr>\n",
       "    <tr>\n",
       "      <th>2</th>\n",
       "      <td>12348.0</td>\n",
       "      <td>4</td>\n",
       "      <td>178.71</td>\n",
       "      <td>1</td>\n",
       "      <td>2341</td>\n",
       "      <td>1</td>\n",
       "      <td>2</td>\n",
       "    </tr>\n",
       "    <tr>\n",
       "      <th>3</th>\n",
       "      <td>12349.0</td>\n",
       "      <td>1</td>\n",
       "      <td>605.10</td>\n",
       "      <td>0</td>\n",
       "      <td>631</td>\n",
       "      <td>0</td>\n",
       "      <td>0</td>\n",
       "    </tr>\n",
       "    <tr>\n",
       "      <th>4</th>\n",
       "      <td>12350.0</td>\n",
       "      <td>1</td>\n",
       "      <td>65.30</td>\n",
       "      <td>0</td>\n",
       "      <td>197</td>\n",
       "      <td>0</td>\n",
       "      <td>0</td>\n",
       "    </tr>\n",
       "    <tr>\n",
       "      <th>...</th>\n",
       "      <td>...</td>\n",
       "      <td>...</td>\n",
       "      <td>...</td>\n",
       "      <td>...</td>\n",
       "      <td>...</td>\n",
       "      <td>...</td>\n",
       "      <td>...</td>\n",
       "    </tr>\n",
       "    <tr>\n",
       "      <th>993</th>\n",
       "      <td>cuts1994</td>\n",
       "      <td>29</td>\n",
       "      <td>1413.00</td>\n",
       "      <td>199</td>\n",
       "      <td>26</td>\n",
       "      <td>1</td>\n",
       "      <td>398</td>\n",
       "    </tr>\n",
       "    <tr>\n",
       "      <th>994</th>\n",
       "      <td>cuts1995</td>\n",
       "      <td>27</td>\n",
       "      <td>995.00</td>\n",
       "      <td>199</td>\n",
       "      <td>22</td>\n",
       "      <td>1</td>\n",
       "      <td>398</td>\n",
       "    </tr>\n",
       "    <tr>\n",
       "      <th>995</th>\n",
       "      <td>cuts1996</td>\n",
       "      <td>15</td>\n",
       "      <td>885.00</td>\n",
       "      <td>200</td>\n",
       "      <td>25</td>\n",
       "      <td>1</td>\n",
       "      <td>400</td>\n",
       "    </tr>\n",
       "    <tr>\n",
       "      <th>996</th>\n",
       "      <td>cuts1997</td>\n",
       "      <td>21</td>\n",
       "      <td>1187.00</td>\n",
       "      <td>200</td>\n",
       "      <td>15</td>\n",
       "      <td>1</td>\n",
       "      <td>400</td>\n",
       "    </tr>\n",
       "    <tr>\n",
       "      <th>997</th>\n",
       "      <td>cuts1998</td>\n",
       "      <td>18</td>\n",
       "      <td>622.00</td>\n",
       "      <td>200</td>\n",
       "      <td>30</td>\n",
       "      <td>1</td>\n",
       "      <td>400</td>\n",
       "    </tr>\n",
       "  </tbody>\n",
       "</table>\n",
       "<p>5370 rows × 7 columns</p>\n",
       "</div>"
      ],
      "text/plain": [
       "    customerId  purchase_by_invoice  purchase_total_amount  purchase_streek  \\\n",
       "0      12346.0                    2                   2.08                0   \n",
       "1      12347.0                    7                 481.21                3   \n",
       "2      12348.0                    4                 178.71                1   \n",
       "3      12349.0                    1                 605.10                0   \n",
       "4      12350.0                    1                  65.30                0   \n",
       "..         ...                  ...                    ...              ...   \n",
       "993   cuts1994                   29                1413.00              199   \n",
       "994   cuts1995                   27                 995.00              199   \n",
       "995   cuts1996                   15                 885.00              200   \n",
       "996   cuts1997                   21                1187.00              200   \n",
       "997   cuts1998                   18                 622.00              200   \n",
       "\n",
       "     purchase_total_product_quantity  is_eligible_customer  offer_eligibility  \n",
       "0                                  0                     0                  0  \n",
       "1                               2458                     1                  6  \n",
       "2                               2341                     1                  2  \n",
       "3                                631                     0                  0  \n",
       "4                                197                     0                  0  \n",
       "..                               ...                   ...                ...  \n",
       "993                               26                     1                398  \n",
       "994                               22                     1                398  \n",
       "995                               25                     1                400  \n",
       "996                               15                     1                400  \n",
       "997                               30                     1                400  \n",
       "\n",
       "[5370 rows x 7 columns]"
      ]
     },
     "metadata": {},
     "output_type": "display_data"
    }
   ],
   "source": [
    "df_grouped_by_customer_id = df.groupby('CustomerID')\n",
    "\n",
    "df_formatted = pd.read_csv('formatted_data.csv',encoding = 'unicode_escape')\n",
    "\n",
    "df_purchase_count_based_offer_eligibity = formatData(df_grouped_by_customer_id)\n",
    "\n",
    "df_purchase_count_based_offer_eligibity = pd.concat([df_purchase_count_based_offer_eligibity, df_formatted])\n",
    "\n",
    "display(df_purchase_count_based_offer_eligibity)"
   ]
  },
  {
   "cell_type": "markdown",
   "metadata": {},
   "source": [
    "<h5>Segregating Feature and Target parameters</h5>"
   ]
  },
  {
   "cell_type": "code",
   "execution_count": 42,
   "metadata": {},
   "outputs": [],
   "source": [
    "## Learning parameters\n",
    "feature_variables = df_purchase_count_based_offer_eligibity[['purchase_by_invoice','purchase_total_amount','purchase_streek', 'purchase_total_product_quantity','is_eligible_customer']]\n",
    "## offer_eligibility as target parameter\n",
    "target_variables = df_purchase_count_based_offer_eligibity[['offer_eligibility']]"
   ]
  },
  {
   "attachments": {},
   "cell_type": "markdown",
   "metadata": {},
   "source": [
    "<h5>Using chi2 test to select k best features for training model</h5>"
   ]
  },
  {
   "cell_type": "code",
   "execution_count": 9,
   "metadata": {},
   "outputs": [
    {
     "data": {
      "text/html": [
       "<div>\n",
       "<style scoped>\n",
       "    .dataframe tbody tr th:only-of-type {\n",
       "        vertical-align: middle;\n",
       "    }\n",
       "\n",
       "    .dataframe tbody tr th {\n",
       "        vertical-align: top;\n",
       "    }\n",
       "\n",
       "    .dataframe thead th {\n",
       "        text-align: right;\n",
       "    }\n",
       "</style>\n",
       "<table border=\"1\" class=\"dataframe\">\n",
       "  <thead>\n",
       "    <tr style=\"text-align: right;\">\n",
       "      <th></th>\n",
       "      <th>Features</th>\n",
       "      <th>Score</th>\n",
       "    </tr>\n",
       "  </thead>\n",
       "  <tbody>\n",
       "    <tr>\n",
       "      <th>4</th>\n",
       "      <td>is_eligible_customer</td>\n",
       "      <td>1.680701e+03</td>\n",
       "    </tr>\n",
       "    <tr>\n",
       "      <th>0</th>\n",
       "      <td>purchase_by_invoice</td>\n",
       "      <td>5.893618e+04</td>\n",
       "    </tr>\n",
       "    <tr>\n",
       "      <th>2</th>\n",
       "      <td>purchase_streek</td>\n",
       "      <td>8.919139e+04</td>\n",
       "    </tr>\n",
       "    <tr>\n",
       "      <th>1</th>\n",
       "      <td>purchase_total_amount</td>\n",
       "      <td>5.606084e+06</td>\n",
       "    </tr>\n",
       "    <tr>\n",
       "      <th>3</th>\n",
       "      <td>purchase_total_product_quantity</td>\n",
       "      <td>1.530735e+07</td>\n",
       "    </tr>\n",
       "  </tbody>\n",
       "</table>\n",
       "</div>"
      ],
      "text/plain": [
       "                          Features         Score\n",
       "4             is_eligible_customer  1.680701e+03\n",
       "0              purchase_by_invoice  5.893618e+04\n",
       "2                  purchase_streek  8.919139e+04\n",
       "1            purchase_total_amount  5.606084e+06\n",
       "3  purchase_total_product_quantity  1.530735e+07"
      ]
     },
     "execution_count": 9,
     "metadata": {},
     "output_type": "execute_result"
    }
   ],
   "source": [
    "best_features= SelectKBest(score_func=chi2, k=2)\n",
    "fit= best_features.fit(feature_variables,target_variables)\n",
    "\n",
    "df_scores= pd.DataFrame(fit.scores_)\n",
    "df_columns= pd.DataFrame(feature_variables.columns)\n",
    "\n",
    "features_scores= pd.concat([df_columns, df_scores], axis=1)\n",
    "features_scores.columns= ['Features', 'Score']\n",
    "features_scores.sort_values(by = 'Score')"
   ]
  },
  {
   "attachments": {},
   "cell_type": "markdown",
   "metadata": {},
   "source": [
    "<h5>Methods to Train / Generate / Predict and Determine Accuracy of classifiers (Decision Tree Classifier)</h5>"
   ]
  },
  {
   "cell_type": "code",
   "execution_count": 71,
   "metadata": {},
   "outputs": [],
   "source": [
    "# Method to perform training with giniIndex.\n",
    "def train_using_gini(X_train, X_test, y_train):\n",
    "    # Creating the classifier object\n",
    "    clf_gini = DecisionTreeClassifier(criterion = \"gini\", random_state = 100, max_depth=3, min_samples_leaf=5)\n",
    "    # Performing training\n",
    "    clf_gini.fit(X_train, y_train)\n",
    "    # returning model\n",
    "    return clf_gini\n",
    "      \n",
    "# Method to perform training with entropy and generate classifier model\n",
    "def train_using_entropy(X_train, X_test, y_train):\n",
    "    # Decision tree with entropy\n",
    "    clf_entropy = DecisionTreeClassifier(criterion = \"entropy\", random_state = 100, max_depth = 3, min_samples_leaf = 5)\n",
    "    # Performing training\n",
    "    clf_entropy.fit(X_train, y_train)\n",
    "    # returning model\n",
    "    return clf_entropy\n",
    "\n",
    "# Method to perform training with random forest classifier and generate model\n",
    "def train_using_random_forest(x_train, x_test, y_train):\n",
    "    model = RandomForestRegressor(n_estimators=500, random_state=42, min_samples_split=2, min_samples_leaf=1, max_depth=10, bootstrap=True)\n",
    "    model.fit(x_train, y_train)\n",
    "    return model\n",
    "\n",
    "# Method to calculate accuracy of decision tree classifiers\n",
    "def cal_accuracy_of_dt_classifier(classifier_name,y_test, y_pred):   \n",
    "    #print(\"Confusion Matrix: \", confusion_matrix(y_test, y_pred))\n",
    "    print(f\"\\n========================= {classifier_name} ==================================\\n\")\n",
    "    print (f\"Accuracy of {classifier_name} \", accuracy_score(y_test,y_pred)*100)  \n",
    "    #print(\"Report : \", classification_report(y_test, y_pred))\n",
    "\n",
    "# Method to calculate accuracy of random forest classifiers\n",
    "def cal_accuracy_of_rf_classifier(classifier_name, x_test, x_train, y_test, y_pred, model):\n",
    "    print(f\"\\n============================= {classifier_name} ==============================\\n\")\n",
    "    print(f\"Mean Absolute Error of {classifier_name}:\", round(mean_absolute_error(y_test, y_pred), 4))\n",
    "    print(f\"Mean Squared Error of {classifier_name}:\", round(mean_squared_error(y_test, y_pred), 4))\n",
    "    print(f\"Root Mean Squared Error of {classifier_name}:\", round(np.sqrt(mean_squared_error(y_test, y_pred)), 4))\n",
    "    print(f\"(R^2) Score of {classifier_name}:\", round(r2_score(y_test, y_pred), 4))\n",
    "    print(f'Train Score of {classifier_name}: {model.score(x_train, y_train) * 100:.2f}% and Test Score : {model.score(x_test, y_test) * 100:.2f}% using Random Tree Regressor.')\n",
    "\n",
    "# Method to make predictions\n",
    "def prediction(X_test, clf_object):\n",
    "    # Predicton on test with giniIndex\n",
    "    y_pred = clf_object.predict(X_test)\n",
    "    # returning predicted outputs\n",
    "    return y_pred "
   ]
  },
  {
   "attachments": {},
   "cell_type": "markdown",
   "metadata": {},
   "source": [
    "<h5>Training and generating models and determining accuracy</h5>"
   ]
  },
  {
   "cell_type": "code",
   "execution_count": 68,
   "metadata": {},
   "outputs": [
    {
     "name": "stdout",
     "output_type": "stream",
     "text": [
      "\n",
      "========================= Gini classifier ==================================\n",
      "\n",
      "Accuracy of Gini classifier  69.71601489757914\n",
      "\n",
      "========================= Entropy classifier ==================================\n",
      "\n",
      "Accuracy of Entropy classifier  71.34543761638734\n"
     ]
    },
    {
     "data": {
      "text/plain": [
       "['decision_tree_entropy_classifier.joblib']"
      ]
     },
     "execution_count": 68,
     "metadata": {},
     "output_type": "execute_result"
    }
   ],
   "source": [
    "''' \n",
    "         Decision tree classfier with Gini and Entropy\n",
    "'''\n",
    "\n",
    "## Spliting dataset into training and test data with test data size as 0.4 and training data size as 0.6\n",
    "X_train,X_test,y_train,y_test=train_test_split(feature_variables,target_variables,test_size=0.8,random_state=100)\n",
    "\n",
    "## Generating classifier model with gini\n",
    "clf_gini = train_using_gini(X_train, X_test, y_train)\n",
    "# Prediction using gini\n",
    "y_pred_gini = prediction(X_test, clf_gini)\n",
    "# calculating efficieny of classifier generated with gini\n",
    "cal_accuracy_of_dt_classifier(\"Gini classifier\",y_test, y_pred_gini)\n",
    "## Saving decision tree classifier gini \n",
    "joblib.dump(clf_gini, filename=\"decision_tree_gini_classifier.joblib\")\n",
    "\n",
    "## Generating classifier model with entropy\n",
    "clf_entropy = train_using_entropy(X_train, X_test, y_train)\n",
    "# Prediction using entropy\n",
    "y_pred_entropy = prediction(X_test, clf_entropy)\n",
    "# calculating efficieny of classifier generate with entropy\n",
    "cal_accuracy_of_dt_classifier(\"Entropy classifier\",y_test, y_pred_entropy)\n",
    "## Saving decision tree classifier entropy\n",
    "joblib.dump(clf_entropy, filename=\"decision_tree_entropy_classifier.joblib\")"
   ]
  },
  {
   "attachments": {},
   "cell_type": "markdown",
   "metadata": {},
   "source": [
    "<h5>Custom data prediction test</h5>"
   ]
  },
  {
   "cell_type": "code",
   "execution_count": 69,
   "metadata": {},
   "outputs": [
    {
     "data": {
      "text/plain": [
       "array([234])"
      ]
     },
     "execution_count": 69,
     "metadata": {},
     "output_type": "execute_result"
    }
   ],
   "source": [
    "customer_eligibility_test_data = [\n",
    "    {\n",
    "        \"customerId\" : \"12345\", \n",
    "        \"purchase_by_invoice\" : 50, \n",
    "        \"purchase_total_amount\" : 5000,\n",
    "        \"purchase_streek\" : 100,\n",
    "        \"purchase_total_product_quantity\" : 150,\n",
    "        \"is_eligible_customer\" : 1\n",
    "    }\n",
    "]\n",
    "\n",
    "test_df = pd.DataFrame(columns=['customerId','purchase_by_invoice','purchase_total_amount','purchase_streek','purchase_total_product_quantity','is_eligible_customer'], data=customer_eligibility_test_data)\n",
    "\n",
    "test_df = test_df.drop(columns=['customerId'])\n",
    "\n",
    "#test_df = scale.transform(test_df.values)\n",
    "\n",
    "prediction(test_df, clf_entropy)"
   ]
  },
  {
   "cell_type": "code",
   "execution_count": null,
   "metadata": {},
   "outputs": [
    {
     "data": {
      "text/plain": [
       "{datetime.date(2011, 1, 6): 100.94999999999996,\n",
       " datetime.date(2011, 11, 30): 85.07999999999997,\n",
       " datetime.date(2011, 4, 21): 82.82,\n",
       " datetime.date(2011, 12, 6): 65.37999999999997,\n",
       " datetime.date(2011, 9, 5): 65.89,\n",
       " datetime.date(2011, 7, 14): 92.75999999999999,\n",
       " datetime.date(2011, 5, 23): 75.23999999999998,\n",
       " datetime.date(2011, 11, 10): 105.65,\n",
       " datetime.date(2011, 1, 23): 83.25000000000001,\n",
       " datetime.date(2011, 6, 14): 49.029999999999994,\n",
       " datetime.date(2011, 11, 23): 128.02999999999992,\n",
       " datetime.date(2011, 6, 23): 132.82,\n",
       " datetime.date(2011, 10, 27): 83.48,\n",
       " datetime.date(2011, 2, 28): 70.55000000000003}"
      ]
     },
     "execution_count": 115,
     "metadata": {},
     "output_type": "execute_result"
    }
   ],
   "source": [
    "df = df_grouped_by_customer_id.get_group(18283.0)\n",
    "price_spend_by_date = {}\n",
    "\n",
    "for x in list(set(df['InvoiceDate'])):\n",
    "   price_spend_by_date[x] = sum(list(df.loc[df['InvoiceDate'] == x, 'UnitPrice']))\n",
    "\n",
    "price_spend_by_date\n",
    "\n",
    "\n",
    "\n"
   ]
  },
  {
   "cell_type": "code",
   "execution_count": 72,
   "metadata": {},
   "outputs": [
    {
     "name": "stderr",
     "output_type": "stream",
     "text": [
      "/var/folders/fn/_6v6kkfx5sg9tlf7lff7lpk00000gp/T/ipykernel_32352/1997154852.py:22: DataConversionWarning: A column-vector y was passed when a 1d array was expected. Please change the shape of y to (n_samples,), for example using ravel().\n",
      "  model.fit(x_train, y_train)\n"
     ]
    },
    {
     "name": "stdout",
     "output_type": "stream",
     "text": [
      "\n",
      "============================= Random Forest classifier ==============================\n",
      "\n",
      "Mean Absolute Error of Random Forest classifier: 0.0698\n",
      "Mean Squared Error of Random Forest classifier: 0.0543\n",
      "Root Mean Squared Error of Random Forest classifier: 0.2329\n",
      "(R^2) Score of Random Forest classifier: 1.0\n",
      "Train Score of Random Forest classifier: 100.00% and Test Score : 100.00% using Random Tree Regressor.\n"
     ]
    },
    {
     "data": {
      "text/plain": [
       "['random_forest_classifier.joblib']"
      ]
     },
     "execution_count": 72,
     "metadata": {},
     "output_type": "execute_result"
    }
   ],
   "source": [
    "## Spliting dataset into training and test data with test data size as 0.4 and training data size as 0.6\n",
    "x_train, x_test, y_train, y_test = train_test_split(feature_variables.values, target_variables.values, test_size=0.5, random_state=0)\n",
    "\n",
    "## Standardizing input\n",
    "scale = StandardScaler()\n",
    "x_train = scale.fit_transform(x_train)\n",
    "x_test = scale.transform(x_test)\n",
    "\n",
    "joblib.dump(scale, 'std_scaler.bin', compress=True)\n",
    "\n",
    "## Generating classifier model with random forest\n",
    "clf_rf = train_using_random_forest(x_train, x_test, y_train)\n",
    "# Prediction using random forest\n",
    "y_pred_rf = prediction(x_test, clf_rf)\n",
    "\n",
    "# calculating efficieny of classifier generate with random forest\n",
    "cal_accuracy_of_rf_classifier(\"Random Forest classifier\", x_test, x_train, y_test, y_pred_rf, clf_rf)\n",
    "## Saving decision tree classifier entropy \n",
    "joblib.dump(clf_rf, filename=\"random_forest_classifier.joblib\")"
   ]
  },
  {
   "cell_type": "code",
   "execution_count": 84,
   "metadata": {},
   "outputs": [
    {
     "data": {
      "text/plain": [
       "array([46.188])"
      ]
     },
     "execution_count": 84,
     "metadata": {},
     "output_type": "execute_result"
    }
   ],
   "source": [
    "scale = joblib.load('std_scaler.bin')\n",
    "\n",
    "customer_eligibility_test_data = [\n",
    "    {\n",
    "        \"customerId\" : \"12345\", \n",
    "        \"purchase_by_invoice\" : 18, \n",
    "        \"purchase_total_amount\" : 400,\n",
    "        \"purchase_streek\" : 23,\n",
    "        \"purchase_total_product_quantity\" : 10,\n",
    "        \"is_eligible_customer\" : 1\n",
    "    }\n",
    "]\n",
    "\n",
    "test_df = pd.DataFrame(columns=['customerId','purchase_by_invoice','purchase_total_amount','purchase_streek','purchase_total_product_quantity','is_eligible_customer'], data=customer_eligibility_test_data)\n",
    "\n",
    "test_df = test_df.drop(columns=['customerId'])\n",
    "\n",
    "test_df = scale.transform(test_df.values)\n",
    "\n",
    "prediction(test_df, clf_rf)"
   ]
  },
  {
   "cell_type": "code",
   "execution_count": null,
   "metadata": {},
   "outputs": [],
   "source": []
  }
 ],
 "metadata": {
  "kernelspec": {
   "display_name": "Python 3",
   "language": "python",
   "name": "python3"
  },
  "language_info": {
   "codemirror_mode": {
    "name": "ipython",
    "version": 3
   },
   "file_extension": ".py",
   "mimetype": "text/x-python",
   "name": "python",
   "nbconvert_exporter": "python",
   "pygments_lexer": "ipython3",
   "version": "3.9.16"
  },
  "orig_nbformat": 4
 },
 "nbformat": 4,
 "nbformat_minor": 2
}
