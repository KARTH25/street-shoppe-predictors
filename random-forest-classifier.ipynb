{
 "cells": [
  {
   "attachments": {},
   "cell_type": "markdown",
   "metadata": {},
   "source": [
    "<h4>Required Libs</h4>"
   ]
  },
  {
   "cell_type": "code",
   "execution_count": 1,
   "metadata": {},
   "outputs": [],
   "source": [
    "import pandas as pd \n",
    "import numpy as np\n",
    "import random\n",
    "from collections import Counter\n",
    "from datetime import date, timedelta, datetime\n",
    "from sklearn.model_selection import train_test_split\n",
    "from sklearn.feature_selection import SelectKBest, chi2\n",
    "from sklearn.ensemble import RandomForestRegressor\n",
    "from sklearn.preprocessing import StandardScaler\n",
    "from sklearn.metrics import mean_absolute_error, mean_squared_error , r2_score ,accuracy_score, confusion_matrix, classification_report\n",
    "import matplotlib.pyplot as plt\n",
    "import seaborn as sns\n",
    "import joblib\n",
    "import json"
   ]
  },
  {
   "attachments": {},
   "cell_type": "markdown",
   "metadata": {},
   "source": [
    "<h4>Data Preprocessing</h4>"
   ]
  },
  {
   "cell_type": "code",
   "execution_count": 2,
   "metadata": {},
   "outputs": [
    {
     "name": "stderr",
     "output_type": "stream",
     "text": [
      "/var/folders/fn/_6v6kkfx5sg9tlf7lff7lpk00000gp/T/ipykernel_9136/3174781342.py:2: DtypeWarning: Columns (1) have mixed types. Specify dtype option on import or set low_memory=False.\n",
      "  df = pd.read_csv('raw_data.csv',encoding = 'unicode_escape')\n"
     ]
    },
    {
     "data": {
      "text/html": [
       "<div>\n",
       "<style scoped>\n",
       "    .dataframe tbody tr th:only-of-type {\n",
       "        vertical-align: middle;\n",
       "    }\n",
       "\n",
       "    .dataframe tbody tr th {\n",
       "        vertical-align: top;\n",
       "    }\n",
       "\n",
       "    .dataframe thead th {\n",
       "        text-align: right;\n",
       "    }\n",
       "</style>\n",
       "<table border=\"1\" class=\"dataframe\">\n",
       "  <thead>\n",
       "    <tr style=\"text-align: right;\">\n",
       "      <th></th>\n",
       "      <th>InvoiceNo</th>\n",
       "      <th>StockCode</th>\n",
       "      <th>Description</th>\n",
       "      <th>Quantity</th>\n",
       "      <th>InvoiceDate</th>\n",
       "      <th>UnitPrice</th>\n",
       "      <th>CustomerID</th>\n",
       "      <th>Country</th>\n",
       "      <th>discount</th>\n",
       "    </tr>\n",
       "  </thead>\n",
       "  <tbody>\n",
       "    <tr>\n",
       "      <th>0</th>\n",
       "      <td>536365</td>\n",
       "      <td>85123A</td>\n",
       "      <td>WHITE HANGING HEART T-LIGHT HOLDER</td>\n",
       "      <td>6.0</td>\n",
       "      <td>2022-04-16</td>\n",
       "      <td>2.55</td>\n",
       "      <td>17850.0</td>\n",
       "      <td>United Kingdom</td>\n",
       "      <td>0.7</td>\n",
       "    </tr>\n",
       "    <tr>\n",
       "      <th>1</th>\n",
       "      <td>536365</td>\n",
       "      <td>71053</td>\n",
       "      <td>WHITE METAL LANTERN</td>\n",
       "      <td>6.0</td>\n",
       "      <td>2022-07-10</td>\n",
       "      <td>3.39</td>\n",
       "      <td>17850.0</td>\n",
       "      <td>United Kingdom</td>\n",
       "      <td>1.0</td>\n",
       "    </tr>\n",
       "    <tr>\n",
       "      <th>2</th>\n",
       "      <td>536365</td>\n",
       "      <td>84406B</td>\n",
       "      <td>CREAM CUPID HEARTS COAT HANGER</td>\n",
       "      <td>8.0</td>\n",
       "      <td>2023-04-26</td>\n",
       "      <td>2.75</td>\n",
       "      <td>17850.0</td>\n",
       "      <td>United Kingdom</td>\n",
       "      <td>0.5</td>\n",
       "    </tr>\n",
       "    <tr>\n",
       "      <th>3</th>\n",
       "      <td>536365</td>\n",
       "      <td>84029G</td>\n",
       "      <td>KNITTED UNION FLAG HOT WATER BOTTLE</td>\n",
       "      <td>6.0</td>\n",
       "      <td>2022-08-22</td>\n",
       "      <td>3.39</td>\n",
       "      <td>17850.0</td>\n",
       "      <td>United Kingdom</td>\n",
       "      <td>0.8</td>\n",
       "    </tr>\n",
       "    <tr>\n",
       "      <th>4</th>\n",
       "      <td>536365</td>\n",
       "      <td>84029E</td>\n",
       "      <td>RED WOOLLY HOTTIE WHITE HEART.</td>\n",
       "      <td>6.0</td>\n",
       "      <td>2022-04-03</td>\n",
       "      <td>3.39</td>\n",
       "      <td>17850.0</td>\n",
       "      <td>United Kingdom</td>\n",
       "      <td>0.9</td>\n",
       "    </tr>\n",
       "  </tbody>\n",
       "</table>\n",
       "</div>"
      ],
      "text/plain": [
       "  InvoiceNo StockCode                          Description  Quantity  \\\n",
       "0    536365    85123A   WHITE HANGING HEART T-LIGHT HOLDER       6.0   \n",
       "1    536365     71053                  WHITE METAL LANTERN       6.0   \n",
       "2    536365    84406B       CREAM CUPID HEARTS COAT HANGER       8.0   \n",
       "3    536365    84029G  KNITTED UNION FLAG HOT WATER BOTTLE       6.0   \n",
       "4    536365    84029E       RED WOOLLY HOTTIE WHITE HEART.       6.0   \n",
       "\n",
       "  InvoiceDate  UnitPrice  CustomerID         Country  discount  \n",
       "0  2022-04-16       2.55     17850.0  United Kingdom       0.7  \n",
       "1  2022-07-10       3.39     17850.0  United Kingdom       1.0  \n",
       "2  2023-04-26       2.75     17850.0  United Kingdom       0.5  \n",
       "3  2022-08-22       3.39     17850.0  United Kingdom       0.8  \n",
       "4  2022-04-03       3.39     17850.0  United Kingdom       0.9  "
      ]
     },
     "execution_count": 2,
     "metadata": {},
     "output_type": "execute_result"
    }
   ],
   "source": [
    "# Reading CSV\n",
    "df = pd.read_csv('raw_data.csv',encoding = 'unicode_escape')\n",
    "# Replacing empty CustomerID with nan\n",
    "df['CustomerID'].replace('', np.nan, inplace=True)\n",
    "# Replacing empty Description with nan\n",
    "df['Description'].replace('', np.nan, inplace=True)\n",
    "# droping all rows with NA\n",
    "df.dropna()\n",
    "# formatting only dates from date time from Invoice dates\n",
    "df['InvoiceDate'] = df['InvoiceDate'].apply(lambda x : datetime.strptime(x, '%Y-%m-%d %H:%M:%S').date())\n",
    "# dropping not required columns\n",
    "df = df.drop(columns=['Unnamed: 0.1','Unnamed: 0'])\n",
    "# Displaying df\n",
    "df.head()"
   ]
  },
  {
   "attachments": {},
   "cell_type": "markdown",
   "metadata": {},
   "source": [
    "<h4>Data informations</h4>"
   ]
  },
  {
   "cell_type": "code",
   "execution_count": 3,
   "metadata": {},
   "outputs": [
    {
     "name": "stdout",
     "output_type": "stream",
     "text": [
      "<class 'pandas.core.frame.DataFrame'>\n",
      "RangeIndex: 542005 entries, 0 to 542004\n",
      "Data columns (total 9 columns):\n",
      " #   Column       Non-Null Count   Dtype  \n",
      "---  ------       --------------   -----  \n",
      " 0   InvoiceNo    541941 non-null  object \n",
      " 1   StockCode    541909 non-null  object \n",
      " 2   Description  540487 non-null  object \n",
      " 3   Quantity     541909 non-null  float64\n",
      " 4   InvoiceDate  542005 non-null  object \n",
      " 5   UnitPrice    541877 non-null  float64\n",
      " 6   CustomerID   406829 non-null  float64\n",
      " 7   Country      541877 non-null  object \n",
      " 8   discount     541877 non-null  float64\n",
      "dtypes: float64(4), object(5)\n",
      "memory usage: 37.2+ MB\n"
     ]
    }
   ],
   "source": [
    "df.info()"
   ]
  },
  {
   "attachments": {},
   "cell_type": "markdown",
   "metadata": {},
   "source": [
    "<h4>Data Formatting / Feature Engineering methods</h4>"
   ]
  },
  {
   "cell_type": "code",
   "execution_count": 4,
   "metadata": {},
   "outputs": [],
   "source": [
    "## Method to get the dataframe groupedBy customerId and format the data\n",
    "def formatData(df):\n",
    "    \n",
    "  customer_eligibility_data = [] \n",
    " \n",
    "  for name, group in df:\n",
    "    invoiceDates = list(set(group['InvoiceDate']))\n",
    "    purchase_streek = 0\n",
    "\n",
    "    for prevDate, currentDate in zip(invoiceDates, invoiceDates[1:]):\n",
    "       invoice_date_diff = currentDate - prevDate \n",
    "       if(invoice_date_diff.days < 30):\n",
    "            purchase_streek += 1\n",
    "\n",
    "    purchase_total_amount = int(abs(sum(group['UnitPrice'])))\n",
    "\n",
    "\n",
    "    customer_eligibility_data.append({ \n",
    "        \"customerId\" : name, \n",
    "        \"description\" : list(set(group['Description']))[0],\n",
    "        \"purchase_by_invoice\" : len(set(group['InvoiceNo'])), \n",
    "        \"purchase_total_amount\" : purchase_total_amount, # add int\n",
    "        \"purchase_streek\" : purchase_streek,\n",
    "        \"next_streek_purchase_amount\" : (1 + purchase_streek) * 100,\n",
    "        \"remaining_amount\" : abs(((1+purchase_streek) * 100) - purchase_total_amount),\n",
    "        \"is_eligible_customer\" : 1 if (purchase_streek > 0 and int(abs(sum(group['UnitPrice'])) > 150)) else 0,\n",
    "        \"offer_eligibility\" : sum(group['discount']) if(int(abs(sum(group['UnitPrice']))) < 150 and sum(group['discount']) > 10) else (purchase_streek * 2)\n",
    "    })\n",
    "\n",
    "  customer_eligibility_data += json.loads(pd.read_csv('combiner_data.csv').to_json(orient=\"records\"))\n",
    "  \n",
    "  col = ['customerId','description','purchase_by_invoice','purchase_total_amount',\n",
    "         'purchase_streek','next_streek_purchase_amount','remaining_amount','is_eligible_customer','offer_eligibility'\n",
    "        ]\n",
    "\n",
    "  df = pd.DataFrame(columns=col, data=customer_eligibility_data)\n",
    "\n",
    "  df.to_csv('formatted_data.csv')\n",
    "    \n",
    "  return df\n",
    "\n",
    "def model_accuracy(classifier_name, x_test, x_train, y_test, y_pred, model):\n",
    "    print(f\"\\n============================= {classifier_name} ==============================\\n\")\n",
    "    print(f\"Mean Absolute Error of {classifier_name}:\", round(mean_absolute_error(y_test, y_pred), 4))\n",
    "    print(f\"Mean Squared Error of {classifier_name}:\", round(mean_squared_error(y_test, y_pred), 4))\n",
    "    print(f\"Root Mean Squared Error of {classifier_name}:\", round(np.sqrt(mean_squared_error(y_test, y_pred)), 4))\n",
    "    print(f\"(R^2) Score of {classifier_name}:\", round(r2_score(y_test, y_pred), 4))\n",
    "    print(f'Test Score : {model.score(x_test, y_pred) * 100:.2f}% using Random Tree Regressor.')\n",
    "  "
   ]
  },
  {
   "attachments": {},
   "cell_type": "markdown",
   "metadata": {},
   "source": [
    "<h4>Customer Average Buying Frequency</h4>"
   ]
  },
  {
   "cell_type": "code",
   "execution_count": 5,
   "metadata": {},
   "outputs": [
    {
     "data": {
      "image/png": "[encoded data removed]",
      "text/plain": [
       "<Figure size 432x288 with 1 Axes>"
      ]
     },
     "metadata": {
      "needs_background": "light"
     },
     "output_type": "display_data"
    }
   ],
   "source": [
    "df_grouped_by_customer_id = df.groupby('CustomerID')\n",
    "time_range_dict = { \"0-60\" : 0, \"61-120\" : 0, \"121-180\" : 0 }\n",
    "average_invoice_date_group = []\n",
    "\n",
    "for name, group in df_grouped_by_customer_id:\n",
    "    invoiceDates = list(set(group['InvoiceDate']))\n",
    "    sorted_dates = sorted(datetime.strptime(str(d), '%Y-%m-%d') for d in invoiceDates)\n",
    "    time_difference = timedelta(0)\n",
    "    counter = 0\n",
    "    for i in range(1, len(sorted_dates), 1):\n",
    "      counter += 1\n",
    "      time_difference += sorted_dates[i] - sorted_dates[i-1]\n",
    "      \n",
    "    if(counter > 0):\n",
    "     average_invoice_date_group.append((time_difference / counter).days)\n",
    "\n",
    "for days in Counter(average_invoice_date_group).keys():\n",
    "  if(days > 0 and days < 60):\n",
    "    time_range_dict['0-60'] += average_invoice_date_group[days]\n",
    "  elif(days > 61 and days < 120):\n",
    "    time_range_dict['61-120'] += average_invoice_date_group[days]\n",
    "  elif(days > 121 and days < 180):\n",
    "    time_range_dict['121-180'] += average_invoice_date_group[days]\n",
    "\n",
    "\n",
    "plt.bar(time_range_dict.keys(),time_range_dict.values())\n",
    "\n",
    "plt.xlabel('Average buying frequency(in days)')\n",
    "plt.ylabel('No of customers')\n",
    "plt.show() \n",
    "\n",
    "\n",
    "   "
   ]
  },
  {
   "cell_type": "code",
   "execution_count": 6,
   "metadata": {},
   "outputs": [
    {
     "data": {
      "text/html": [
       "<div>\n",
       "<style scoped>\n",
       "    .dataframe tbody tr th:only-of-type {\n",
       "        vertical-align: middle;\n",
       "    }\n",
       "\n",
       "    .dataframe tbody tr th {\n",
       "        vertical-align: top;\n",
       "    }\n",
       "\n",
       "    .dataframe thead th {\n",
       "        text-align: right;\n",
       "    }\n",
       "</style>\n",
       "<table border=\"1\" class=\"dataframe\">\n",
       "  <thead>\n",
       "    <tr style=\"text-align: right;\">\n",
       "      <th></th>\n",
       "      <th>customerId</th>\n",
       "      <th>description</th>\n",
       "      <th>purchase_by_invoice</th>\n",
       "      <th>purchase_total_amount</th>\n",
       "      <th>purchase_streek</th>\n",
       "      <th>next_streek_purchase_amount</th>\n",
       "      <th>remaining_amount</th>\n",
       "      <th>is_eligible_customer</th>\n",
       "      <th>offer_eligibility</th>\n",
       "    </tr>\n",
       "  </thead>\n",
       "  <tbody>\n",
       "    <tr>\n",
       "      <th>0</th>\n",
       "      <td>12346.0</td>\n",
       "      <td>MEDIUM CERAMIC TOP STORAGE JAR</td>\n",
       "      <td>2</td>\n",
       "      <td>2</td>\n",
       "      <td>1</td>\n",
       "      <td>200</td>\n",
       "      <td>198</td>\n",
       "      <td>0</td>\n",
       "      <td>2.0</td>\n",
       "    </tr>\n",
       "    <tr>\n",
       "      <th>1</th>\n",
       "      <td>12347.0</td>\n",
       "      <td>FOOD CONTAINER SET 3 LOVE HEART</td>\n",
       "      <td>7</td>\n",
       "      <td>481</td>\n",
       "      <td>86</td>\n",
       "      <td>8700</td>\n",
       "      <td>8219</td>\n",
       "      <td>1</td>\n",
       "      <td>172.0</td>\n",
       "    </tr>\n",
       "    <tr>\n",
       "      <th>2</th>\n",
       "      <td>12348.0</td>\n",
       "      <td>ICE CREAM PEN LIP GLOSS</td>\n",
       "      <td>4</td>\n",
       "      <td>178</td>\n",
       "      <td>19</td>\n",
       "      <td>2000</td>\n",
       "      <td>1822</td>\n",
       "      <td>1</td>\n",
       "      <td>38.0</td>\n",
       "    </tr>\n",
       "    <tr>\n",
       "      <th>3</th>\n",
       "      <td>12349.0</td>\n",
       "      <td>SET OF 6 TEA TIME BAKING CASES</td>\n",
       "      <td>1</td>\n",
       "      <td>605</td>\n",
       "      <td>38</td>\n",
       "      <td>3900</td>\n",
       "      <td>3295</td>\n",
       "      <td>1</td>\n",
       "      <td>76.0</td>\n",
       "    </tr>\n",
       "    <tr>\n",
       "      <th>4</th>\n",
       "      <td>12350.0</td>\n",
       "      <td>4 TRADITIONAL SPINNING TOPS</td>\n",
       "      <td>1</td>\n",
       "      <td>65</td>\n",
       "      <td>10</td>\n",
       "      <td>1100</td>\n",
       "      <td>1035</td>\n",
       "      <td>0</td>\n",
       "      <td>20.0</td>\n",
       "    </tr>\n",
       "    <tr>\n",
       "      <th>...</th>\n",
       "      <td>...</td>\n",
       "      <td>...</td>\n",
       "      <td>...</td>\n",
       "      <td>...</td>\n",
       "      <td>...</td>\n",
       "      <td>...</td>\n",
       "      <td>...</td>\n",
       "      <td>...</td>\n",
       "      <td>...</td>\n",
       "    </tr>\n",
       "    <tr>\n",
       "      <th>14372</th>\n",
       "      <td>11001.0</td>\n",
       "      <td>DOORMAT NEW ENGLAND</td>\n",
       "      <td>4</td>\n",
       "      <td>959</td>\n",
       "      <td>18</td>\n",
       "      <td>1900</td>\n",
       "      <td>941</td>\n",
       "      <td>1</td>\n",
       "      <td>36.0</td>\n",
       "    </tr>\n",
       "    <tr>\n",
       "      <th>14373</th>\n",
       "      <td>11002.0</td>\n",
       "      <td>JAM MAKING SET WITH JARS</td>\n",
       "      <td>3</td>\n",
       "      <td>290</td>\n",
       "      <td>3</td>\n",
       "      <td>400</td>\n",
       "      <td>110</td>\n",
       "      <td>1</td>\n",
       "      <td>6.0</td>\n",
       "    </tr>\n",
       "    <tr>\n",
       "      <th>14374</th>\n",
       "      <td>11003.0</td>\n",
       "      <td>RED COAT RACK PARIS FASHION</td>\n",
       "      <td>7</td>\n",
       "      <td>1504</td>\n",
       "      <td>15</td>\n",
       "      <td>1600</td>\n",
       "      <td>96</td>\n",
       "      <td>1</td>\n",
       "      <td>30.0</td>\n",
       "    </tr>\n",
       "    <tr>\n",
       "      <th>14375</th>\n",
       "      <td>11004.0</td>\n",
       "      <td>YELLOW COAT RACK PARIS FASHION</td>\n",
       "      <td>2</td>\n",
       "      <td>995</td>\n",
       "      <td>18</td>\n",
       "      <td>1900</td>\n",
       "      <td>905</td>\n",
       "      <td>1</td>\n",
       "      <td>36.0</td>\n",
       "    </tr>\n",
       "    <tr>\n",
       "      <th>14376</th>\n",
       "      <td>11005.0</td>\n",
       "      <td>BLUE COAT RACK PARIS FASHION</td>\n",
       "      <td>3</td>\n",
       "      <td>160</td>\n",
       "      <td>2</td>\n",
       "      <td>300</td>\n",
       "      <td>140</td>\n",
       "      <td>1</td>\n",
       "      <td>4.0</td>\n",
       "    </tr>\n",
       "  </tbody>\n",
       "</table>\n",
       "<p>14377 rows × 9 columns</p>\n",
       "</div>"
      ],
      "text/plain": [
       "       customerId                       description  purchase_by_invoice  \\\n",
       "0         12346.0    MEDIUM CERAMIC TOP STORAGE JAR                    2   \n",
       "1         12347.0  FOOD CONTAINER SET 3 LOVE HEART                     7   \n",
       "2         12348.0          ICE CREAM PEN LIP GLOSS                     4   \n",
       "3         12349.0    SET OF 6 TEA TIME BAKING CASES                    1   \n",
       "4         12350.0       4 TRADITIONAL SPINNING TOPS                    1   \n",
       "...           ...                               ...                  ...   \n",
       "14372     11001.0               DOORMAT NEW ENGLAND                    4   \n",
       "14373     11002.0          JAM MAKING SET WITH JARS                    3   \n",
       "14374     11003.0       RED COAT RACK PARIS FASHION                    7   \n",
       "14375     11004.0    YELLOW COAT RACK PARIS FASHION                    2   \n",
       "14376     11005.0      BLUE COAT RACK PARIS FASHION                    3   \n",
       "\n",
       "       purchase_total_amount  purchase_streek  next_streek_purchase_amount  \\\n",
       "0                          2                1                          200   \n",
       "1                        481               86                         8700   \n",
       "2                        178               19                         2000   \n",
       "3                        605               38                         3900   \n",
       "4                         65               10                         1100   \n",
       "...                      ...              ...                          ...   \n",
       "14372                    959               18                         1900   \n",
       "14373                    290                3                          400   \n",
       "14374                   1504               15                         1600   \n",
       "14375                    995               18                         1900   \n",
       "14376                    160                2                          300   \n",
       "\n",
       "       remaining_amount  is_eligible_customer  offer_eligibility  \n",
       "0                   198                     0                2.0  \n",
       "1                  8219                     1              172.0  \n",
       "2                  1822                     1               38.0  \n",
       "3                  3295                     1               76.0  \n",
       "4                  1035                     0               20.0  \n",
       "...                 ...                   ...                ...  \n",
       "14372               941                     1               36.0  \n",
       "14373               110                     1                6.0  \n",
       "14374                96                     1               30.0  \n",
       "14375               905                     1               36.0  \n",
       "14376               140                     1                4.0  \n",
       "\n",
       "[14377 rows x 9 columns]"
      ]
     },
     "metadata": {},
     "output_type": "display_data"
    }
   ],
   "source": [
    "df_grouped_by_customer_id = df.groupby('CustomerID')\n",
    "\n",
    "df_purchase_count_based_offer_eligibity = formatData(df_grouped_by_customer_id)\n",
    "\n",
    "display(df_purchase_count_based_offer_eligibity)"
   ]
  },
  {
   "attachments": {},
   "cell_type": "markdown",
   "metadata": {},
   "source": [
    "<h4>Model for offer eligibility prediction</h4>"
   ]
  },
  {
   "cell_type": "code",
   "execution_count": 7,
   "metadata": {},
   "outputs": [
    {
     "name": "stderr",
     "output_type": "stream",
     "text": [
      "/var/folders/fn/_6v6kkfx5sg9tlf7lff7lpk00000gp/T/ipykernel_9136/914072757.py:15: DataConversionWarning: A column-vector y was passed when a 1d array was expected. Please change the shape of y to (n_samples,), for example using ravel().\n",
      "  model.fit(x_train, y_train)\n"
     ]
    },
    {
     "name": "stdout",
     "output_type": "stream",
     "text": [
      "\n",
      "============================= offer eligibility model accuracy ==============================\n",
      "\n",
      "Mean Absolute Error of offer eligibility model accuracy: 0.5618\n",
      "Mean Squared Error of offer eligibility model accuracy: 5.5596\n",
      "Root Mean Squared Error of offer eligibility model accuracy: 2.3579\n",
      "(R^2) Score of offer eligibility model accuracy: 0.9981\n",
      "Test Score : 100.00% using Random Tree Regressor.\n"
     ]
    },
    {
     "data": {
      "text/plain": [
       "['../models/offer_eligibility_model.joblib']"
      ]
     },
     "execution_count": 7,
     "metadata": {},
     "output_type": "execute_result"
    }
   ],
   "source": [
    "feature_variables_model = df_purchase_count_based_offer_eligibity[['purchase_total_amount','purchase_streek','next_streek_purchase_amount']]\n",
    "## offer_eligibility as target parameter\n",
    "target_variables_model = df_purchase_count_based_offer_eligibity[['offer_eligibility']]\n",
    "## Spliting dataset into training and test data with test data size as 0.4 and training data size as 0.6\n",
    "x_train, x_test, y_train, y_test = train_test_split(feature_variables_model.values, target_variables_model.values, test_size=0.5, random_state=100)\n",
    "## Standardizing input with standard scaler\n",
    "offer_eligibility_scaler = StandardScaler()\n",
    "## fit transform of training values\n",
    "x_train = offer_eligibility_scaler.fit_transform(x_train)\n",
    "## transform values of test values\n",
    "x_test = offer_eligibility_scaler.transform(x_test)\n",
    "## defining random forest classifier model\n",
    "model = RandomForestRegressor(n_estimators=500, random_state=100, min_samples_split=5, min_samples_leaf=2, max_depth=15, bootstrap=True)\n",
    "## fiting the model\n",
    "model.fit(x_train, y_train)\n",
    "## predict\n",
    "y_pred = model.predict(x_test)\n",
    "## Accuracy\n",
    "model_accuracy(\"offer eligibility model accuracy\", x_test, x_train, y_test, y_pred, model)\n",
    "## saving scaler\n",
    "joblib.dump(offer_eligibility_scaler,  filename=\"../models/offer_eligibility_scaler.bin\")\n",
    "## saving the offer eligibility scaler model \n",
    "joblib.dump(model, filename=\"../models/offer_eligibility_model.joblib\")"
   ]
  },
  {
   "attachments": {},
   "cell_type": "markdown",
   "metadata": {},
   "source": [
    "<h4>Model for Minimum spend prediction</h4>"
   ]
  },
  {
   "cell_type": "code",
   "execution_count": 8,
   "metadata": {},
   "outputs": [
    {
     "name": "stderr",
     "output_type": "stream",
     "text": [
      "/var/folders/fn/_6v6kkfx5sg9tlf7lff7lpk00000gp/T/ipykernel_9136/3605357299.py:19: DataConversionWarning: A column-vector y was passed when a 1d array was expected. Please change the shape of y to (n_samples,), for example using ravel().\n",
      "  model.fit(x_train, y_train)\n"
     ]
    },
    {
     "name": "stdout",
     "output_type": "stream",
     "text": [
      "\n",
      "============================= Minimum spend model accuracy ==============================\n",
      "\n",
      "Mean Absolute Error of Minimum spend model accuracy: 15.001\n",
      "Mean Squared Error of Minimum spend model accuracy: 13064.8938\n",
      "Root Mean Squared Error of Minimum spend model accuracy: 114.3018\n",
      "(R^2) Score of Minimum spend model accuracy: 0.998\n",
      "Test Score : 100.00% using Random Tree Regressor.\n"
     ]
    },
    {
     "data": {
      "text/plain": [
       "['../models/minimum_spend_model.joblib']"
      ]
     },
     "execution_count": 8,
     "metadata": {},
     "output_type": "execute_result"
    }
   ],
   "source": [
    "feature_variables_model = df_purchase_count_based_offer_eligibity[['purchase_total_amount','next_streek_purchase_amount']]\n",
    "## offer_eligibility as target parameter\n",
    "target_variables_model = df_purchase_count_based_offer_eligibity[['remaining_amount']]\n",
    "## Spliting dataset into training and test data with test data size as 0.4 and training data size as 0.6\n",
    "x_train, x_test, y_train, y_test = train_test_split(feature_variables_model.values, target_variables_model.values, test_size=0.5, random_state=100)\n",
    "## Standardizing input with standard scaler\n",
    "\n",
    "'''\n",
    "minimum_price_spend_scaler = StandardScaler()\n",
    "## fit transform of training values\n",
    "x_train = minimum_price_spend_scaler.fit_transform(x_train)\n",
    "## transform values of test values\n",
    "x_test = minimum_price_spend_scaler.transform(x_test)\n",
    "'''\n",
    "\n",
    "## defining random forest classifier model\n",
    "model = RandomForestRegressor(n_estimators=500, random_state=100, min_samples_split=5, min_samples_leaf=2, max_depth=15, bootstrap=True)\n",
    "## fiting the model\n",
    "model.fit(x_train, y_train)\n",
    "## predict\n",
    "y_pred = model.predict(x_test)\n",
    "## Accuracy\n",
    "model_accuracy(\"Minimum spend model accuracy\", x_test, x_train, y_test, y_pred, model)\n",
    "## saving scaler\n",
    "#joblib.dump(minimum_price_spend_scaler, filename=\"minimum_price_spend_scaler.bin\")\n",
    "## saving the offer eligibility scaler model \n",
    "joblib.dump(model, filename=\"../models/minimum_spend_model.joblib\")"
   ]
  },
  {
   "attachments": {},
   "cell_type": "markdown",
   "metadata": {},
   "source": [
    "<h4>Helper Method to process input to model</h4>"
   ]
  },
  {
   "cell_type": "code",
   "execution_count": 9,
   "metadata": {},
   "outputs": [],
   "source": [
    "def formatInput(requestBody):\n",
    "    purchase_streek = requestBody['purchase_streek']\n",
    "    purchases = [purchase for purchase in requestBody['purchase_history'] if ((datetime.strptime(purchase['invoice_date'], \"%Y-%m-%d\") - datetime.strptime(requestBody['last_streek_date'], \"%Y-%m-%d\")).days < 30)]\n",
    "    purchase_total_amount = 0\n",
    "    for invoice in purchases:\n",
    "       purchase_total_amount += invoice['purchase_amount']\n",
    "    if(purchase_total_amount >= ((purchase_streek + 1)*100)):\n",
    "        purchase_streek += 1\n",
    "        purchase_total_amount = 0\n",
    "    return { \"purchase_total_amount\" : purchase_total_amount, \"purchase_streek\" : purchase_streek, \"next_streek_purchase_amount\" : ((purchase_streek + 1)*100) }\n",
    "    "
   ]
  },
  {
   "cell_type": "code",
   "execution_count": 10,
   "metadata": {},
   "outputs": [
    {
     "name": "stdout",
     "output_type": "stream",
     "text": [
      "model input {'purchase_total_amount': 170, 'purchase_streek': 3, 'next_streek_purchase_amount': 400}\n",
      "\n",
      "Offer eligibility  [6.]\n",
      "\n",
      "Minimum price spend  [229.90862302]\n"
     ]
    },
    {
     "name": "stderr",
     "output_type": "stream",
     "text": [
      "/Users/kramac538/Library/Python/3.9/lib/python/site-packages/sklearn/base.py:413: UserWarning: X has feature names, but StandardScaler was fitted without feature names\n",
      "  warnings.warn(\n",
      "/Users/kramac538/Library/Python/3.9/lib/python/site-packages/sklearn/base.py:413: UserWarning: X has feature names, but RandomForestRegressor was fitted without feature names\n",
      "  warnings.warn(\n"
     ]
    }
   ],
   "source": [
    "requestBody = {\n",
    "    \"purchase_history\" : [\n",
    "        { \"customer_id\" : 123, \"invoice_number\" : 1000, \"invoice_date\" : \"2023-05-01\", \"purchase_amount\" : 100 },\n",
    "        { \"customer_id\" : 123, \"invoice_number\" : 1001, \"invoice_date\" : \"2023-05-03\", \"purchase_amount\" : 10 },\n",
    "        { \"customer_id\" : 123, \"invoice_number\" : 1002, \"invoice_date\" : \"2023-05-05\", \"purchase_amount\" : 20 },\n",
    "        { \"customer_id\" : 123, \"invoice_number\" : 1003, \"invoice_date\" : \"2023-05-07\", \"purchase_amount\" : 40 },\n",
    "    ],\n",
    "    \"last_streek_date\" : \"2023-04-27\",\n",
    "    \"purchase_streek\" : 3\n",
    "}\n",
    "\n",
    "## load scalers \n",
    "offer_eligibility_scaler = joblib.load('../models/offer_eligibility_scaler.bin')\n",
    "\n",
    "## loading models\n",
    "offer_predictor = joblib.load('../models/offer_eligibility_model.joblib')\n",
    "minimum_spend_predictor = joblib.load('../models/minimum_spend_model.joblib')\n",
    "\n",
    "print(\"model input\", formatInput(requestBody=requestBody))\n",
    "\n",
    "print(\"\\nOffer eligibility \",offer_predictor.predict(offer_eligibility_scaler.transform(pd.DataFrame(columns=['purchase_total_amount','purchase_streek',\"next_streek_purchase_amount\"], data=[formatInput(requestBody=requestBody)]))))\n",
    "print(\"\\nMinimum price spend \",minimum_spend_predictor.predict(pd.DataFrame(columns=[\"purchase_total_amount\",\"next_streek_purchase_amount\"], data=[formatInput(requestBody=requestBody)])))\n"
   ]
  },
  {
   "cell_type": "code",
   "execution_count": null,
   "metadata": {},
   "outputs": [],
   "source": []
  }
 ],
 "metadata": {
  "kernelspec": {
   "display_name": "Python 3",
   "language": "python",
   "name": "python3"
  },
  "language_info": {
   "codemirror_mode": {
    "name": "ipython",
    "version": 3
   },
   "file_extension": ".py",
   "mimetype": "text/x-python",
   "name": "python",
   "nbconvert_exporter": "python",
   "pygments_lexer": "ipython3",
   "version": "3.9.16"
  },
  "orig_nbformat": 4
 },
 "nbformat": 4,
 "nbformat_minor": 2
}
