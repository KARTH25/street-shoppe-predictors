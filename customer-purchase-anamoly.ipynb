{
 "cells": [
  {
   "cell_type": "code",
   "execution_count": 52,
   "metadata": {},
   "outputs": [],
   "source": [
    "import numpy as np\n",
    "import pandas as pd\n",
    "import joblib\n",
    "from sklearn.linear_model import LogisticRegression\n",
    "from sklearn.model_selection import train_test_split\n",
    "from sklearn.metrics import accuracy_score\n"
   ]
  },
  {
   "cell_type": "markdown",
   "metadata": {},
   "source": [
    "<h4>Reading dataset</h4>"
   ]
  },
  {
   "cell_type": "code",
   "execution_count": 28,
   "metadata": {},
   "outputs": [
    {
     "name": "stdout",
     "output_type": "stream",
     "text": [
      "<class 'pandas.core.frame.DataFrame'>\n",
      "RangeIndex: 1000 entries, 0 to 999\n",
      "Data columns (total 7 columns):\n",
      " #   Column              Non-Null Count  Dtype\n",
      "---  ------              --------------  -----\n",
      " 0   prefered_device     1000 non-null   int64\n",
      " 1   registered_ip       1000 non-null   int64\n",
      " 2   average_spend       1000 non-null   int64\n",
      " 3   multiple_sessions   1000 non-null   int64\n",
      " 4   preferred_location  1000 non-null   int64\n",
      " 5   preferred_category  1000 non-null   int64\n",
      " 6   is_legitimate_user  1000 non-null   int64\n",
      "dtypes: int64(7)\n",
      "memory usage: 54.8 KB\n"
     ]
    }
   ],
   "source": [
    "# Reading purchase anamaly dataset \n",
    "df = pd.read_csv('user-login-anamoly.csv',encoding = 'unicode_escape')\n",
    "# droping all rows with NA\n",
    "df.dropna()\n",
    "# data info\n",
    "df.info()"
   ]
  },
  {
   "cell_type": "markdown",
   "metadata": {},
   "source": [
    "<h4>Verifying data</h4>"
   ]
  },
  {
   "cell_type": "code",
   "execution_count": 35,
   "metadata": {},
   "outputs": [
    {
     "data": {
      "text/html": [
       "<div>\n",
       "<style scoped>\n",
       "    .dataframe tbody tr th:only-of-type {\n",
       "        vertical-align: middle;\n",
       "    }\n",
       "\n",
       "    .dataframe tbody tr th {\n",
       "        vertical-align: top;\n",
       "    }\n",
       "\n",
       "    .dataframe thead th {\n",
       "        text-align: right;\n",
       "    }\n",
       "</style>\n",
       "<table border=\"1\" class=\"dataframe\">\n",
       "  <thead>\n",
       "    <tr style=\"text-align: right;\">\n",
       "      <th></th>\n",
       "      <th>prefered_device</th>\n",
       "      <th>registered_ip</th>\n",
       "      <th>average_spend</th>\n",
       "      <th>multiple_sessions</th>\n",
       "      <th>preferred_location</th>\n",
       "      <th>preferred_category</th>\n",
       "      <th>is_legitimate_user</th>\n",
       "    </tr>\n",
       "  </thead>\n",
       "  <tbody>\n",
       "    <tr>\n",
       "      <th>6</th>\n",
       "      <td>1</td>\n",
       "      <td>0</td>\n",
       "      <td>1</td>\n",
       "      <td>0</td>\n",
       "      <td>0</td>\n",
       "      <td>1</td>\n",
       "      <td>1</td>\n",
       "    </tr>\n",
       "    <tr>\n",
       "      <th>8</th>\n",
       "      <td>1</td>\n",
       "      <td>0</td>\n",
       "      <td>1</td>\n",
       "      <td>0</td>\n",
       "      <td>1</td>\n",
       "      <td>0</td>\n",
       "      <td>1</td>\n",
       "    </tr>\n",
       "    <tr>\n",
       "      <th>24</th>\n",
       "      <td>1</td>\n",
       "      <td>0</td>\n",
       "      <td>1</td>\n",
       "      <td>0</td>\n",
       "      <td>0</td>\n",
       "      <td>0</td>\n",
       "      <td>1</td>\n",
       "    </tr>\n",
       "    <tr>\n",
       "      <th>25</th>\n",
       "      <td>1</td>\n",
       "      <td>1</td>\n",
       "      <td>1</td>\n",
       "      <td>0</td>\n",
       "      <td>1</td>\n",
       "      <td>1</td>\n",
       "      <td>1</td>\n",
       "    </tr>\n",
       "    <tr>\n",
       "      <th>27</th>\n",
       "      <td>1</td>\n",
       "      <td>0</td>\n",
       "      <td>1</td>\n",
       "      <td>0</td>\n",
       "      <td>1</td>\n",
       "      <td>0</td>\n",
       "      <td>1</td>\n",
       "    </tr>\n",
       "    <tr>\n",
       "      <th>...</th>\n",
       "      <td>...</td>\n",
       "      <td>...</td>\n",
       "      <td>...</td>\n",
       "      <td>...</td>\n",
       "      <td>...</td>\n",
       "      <td>...</td>\n",
       "      <td>...</td>\n",
       "    </tr>\n",
       "    <tr>\n",
       "      <th>981</th>\n",
       "      <td>1</td>\n",
       "      <td>1</td>\n",
       "      <td>1</td>\n",
       "      <td>1</td>\n",
       "      <td>0</td>\n",
       "      <td>0</td>\n",
       "      <td>0</td>\n",
       "    </tr>\n",
       "    <tr>\n",
       "      <th>986</th>\n",
       "      <td>1</td>\n",
       "      <td>1</td>\n",
       "      <td>1</td>\n",
       "      <td>1</td>\n",
       "      <td>0</td>\n",
       "      <td>1</td>\n",
       "      <td>0</td>\n",
       "    </tr>\n",
       "    <tr>\n",
       "      <th>990</th>\n",
       "      <td>1</td>\n",
       "      <td>1</td>\n",
       "      <td>1</td>\n",
       "      <td>0</td>\n",
       "      <td>1</td>\n",
       "      <td>1</td>\n",
       "      <td>1</td>\n",
       "    </tr>\n",
       "    <tr>\n",
       "      <th>993</th>\n",
       "      <td>1</td>\n",
       "      <td>1</td>\n",
       "      <td>1</td>\n",
       "      <td>0</td>\n",
       "      <td>0</td>\n",
       "      <td>1</td>\n",
       "      <td>1</td>\n",
       "    </tr>\n",
       "    <tr>\n",
       "      <th>998</th>\n",
       "      <td>1</td>\n",
       "      <td>1</td>\n",
       "      <td>1</td>\n",
       "      <td>0</td>\n",
       "      <td>0</td>\n",
       "      <td>0</td>\n",
       "      <td>1</td>\n",
       "    </tr>\n",
       "  </tbody>\n",
       "</table>\n",
       "<p>266 rows × 7 columns</p>\n",
       "</div>"
      ],
      "text/plain": [
       "     prefered_device  registered_ip  average_spend  multiple_sessions  \\\n",
       "6                  1              0              1                  0   \n",
       "8                  1              0              1                  0   \n",
       "24                 1              0              1                  0   \n",
       "25                 1              1              1                  0   \n",
       "27                 1              0              1                  0   \n",
       "..               ...            ...            ...                ...   \n",
       "981                1              1              1                  1   \n",
       "986                1              1              1                  1   \n",
       "990                1              1              1                  0   \n",
       "993                1              1              1                  0   \n",
       "998                1              1              1                  0   \n",
       "\n",
       "     preferred_location  preferred_category  is_legitimate_user  \n",
       "6                     0                   1                   1  \n",
       "8                     1                   0                   1  \n",
       "24                    0                   0                   1  \n",
       "25                    1                   1                   1  \n",
       "27                    1                   0                   1  \n",
       "..                  ...                 ...                 ...  \n",
       "981                   0                   0                   0  \n",
       "986                   0                   1                   0  \n",
       "990                   1                   1                   1  \n",
       "993                   0                   1                   1  \n",
       "998                   0                   0                   1  \n",
       "\n",
       "[266 rows x 7 columns]"
      ]
     },
     "execution_count": 35,
     "metadata": {},
     "output_type": "execute_result"
    }
   ],
   "source": [
    "df.loc[(df['prefered_device'] == 1) & (df['average_spend'] == 1)]"
   ]
  },
  {
   "cell_type": "code",
   "execution_count": 37,
   "metadata": {},
   "outputs": [
    {
     "data": {
      "text/html": [
       "<div>\n",
       "<style scoped>\n",
       "    .dataframe tbody tr th:only-of-type {\n",
       "        vertical-align: middle;\n",
       "    }\n",
       "\n",
       "    .dataframe tbody tr th {\n",
       "        vertical-align: top;\n",
       "    }\n",
       "\n",
       "    .dataframe thead th {\n",
       "        text-align: right;\n",
       "    }\n",
       "</style>\n",
       "<table border=\"1\" class=\"dataframe\">\n",
       "  <thead>\n",
       "    <tr style=\"text-align: right;\">\n",
       "      <th></th>\n",
       "      <th>prefered_device</th>\n",
       "      <th>registered_ip</th>\n",
       "      <th>average_spend</th>\n",
       "      <th>multiple_sessions</th>\n",
       "      <th>preferred_location</th>\n",
       "      <th>preferred_category</th>\n",
       "      <th>is_legitimate_user</th>\n",
       "    </tr>\n",
       "  </thead>\n",
       "  <tbody>\n",
       "    <tr>\n",
       "      <th>prefered_device</th>\n",
       "      <td>1.000000</td>\n",
       "      <td>-0.028677</td>\n",
       "      <td>0.009003</td>\n",
       "      <td>-0.003916</td>\n",
       "      <td>-0.023331</td>\n",
       "      <td>0.027286</td>\n",
       "      <td>0.151265</td>\n",
       "    </tr>\n",
       "    <tr>\n",
       "      <th>registered_ip</th>\n",
       "      <td>-0.028677</td>\n",
       "      <td>1.000000</td>\n",
       "      <td>0.027316</td>\n",
       "      <td>-0.039767</td>\n",
       "      <td>-0.049815</td>\n",
       "      <td>-0.034571</td>\n",
       "      <td>0.023310</td>\n",
       "    </tr>\n",
       "    <tr>\n",
       "      <th>average_spend</th>\n",
       "      <td>0.009003</td>\n",
       "      <td>0.027316</td>\n",
       "      <td>1.000000</td>\n",
       "      <td>-0.084629</td>\n",
       "      <td>0.020576</td>\n",
       "      <td>0.023873</td>\n",
       "      <td>0.463014</td>\n",
       "    </tr>\n",
       "    <tr>\n",
       "      <th>multiple_sessions</th>\n",
       "      <td>-0.003916</td>\n",
       "      <td>-0.039767</td>\n",
       "      <td>-0.084629</td>\n",
       "      <td>1.000000</td>\n",
       "      <td>-0.028336</td>\n",
       "      <td>0.012342</td>\n",
       "      <td>-0.560683</td>\n",
       "    </tr>\n",
       "    <tr>\n",
       "      <th>preferred_location</th>\n",
       "      <td>-0.023331</td>\n",
       "      <td>-0.049815</td>\n",
       "      <td>0.020576</td>\n",
       "      <td>-0.028336</td>\n",
       "      <td>1.000000</td>\n",
       "      <td>-0.009325</td>\n",
       "      <td>0.238162</td>\n",
       "    </tr>\n",
       "    <tr>\n",
       "      <th>preferred_category</th>\n",
       "      <td>0.027286</td>\n",
       "      <td>-0.034571</td>\n",
       "      <td>0.023873</td>\n",
       "      <td>0.012342</td>\n",
       "      <td>-0.009325</td>\n",
       "      <td>1.000000</td>\n",
       "      <td>0.032495</td>\n",
       "    </tr>\n",
       "    <tr>\n",
       "      <th>is_legitimate_user</th>\n",
       "      <td>0.151265</td>\n",
       "      <td>0.023310</td>\n",
       "      <td>0.463014</td>\n",
       "      <td>-0.560683</td>\n",
       "      <td>0.238162</td>\n",
       "      <td>0.032495</td>\n",
       "      <td>1.000000</td>\n",
       "    </tr>\n",
       "  </tbody>\n",
       "</table>\n",
       "</div>"
      ],
      "text/plain": [
       "                    prefered_device  registered_ip  average_spend  \\\n",
       "prefered_device            1.000000      -0.028677       0.009003   \n",
       "registered_ip             -0.028677       1.000000       0.027316   \n",
       "average_spend              0.009003       0.027316       1.000000   \n",
       "multiple_sessions         -0.003916      -0.039767      -0.084629   \n",
       "preferred_location        -0.023331      -0.049815       0.020576   \n",
       "preferred_category         0.027286      -0.034571       0.023873   \n",
       "is_legitimate_user         0.151265       0.023310       0.463014   \n",
       "\n",
       "                    multiple_sessions  preferred_location  preferred_category  \\\n",
       "prefered_device             -0.003916           -0.023331            0.027286   \n",
       "registered_ip               -0.039767           -0.049815           -0.034571   \n",
       "average_spend               -0.084629            0.020576            0.023873   \n",
       "multiple_sessions            1.000000           -0.028336            0.012342   \n",
       "preferred_location          -0.028336            1.000000           -0.009325   \n",
       "preferred_category           0.012342           -0.009325            1.000000   \n",
       "is_legitimate_user          -0.560683            0.238162            0.032495   \n",
       "\n",
       "                    is_legitimate_user  \n",
       "prefered_device               0.151265  \n",
       "registered_ip                 0.023310  \n",
       "average_spend                 0.463014  \n",
       "multiple_sessions            -0.560683  \n",
       "preferred_location            0.238162  \n",
       "preferred_category            0.032495  \n",
       "is_legitimate_user            1.000000  "
      ]
     },
     "execution_count": 37,
     "metadata": {},
     "output_type": "execute_result"
    }
   ],
   "source": [
    "df.corr()"
   ]
  },
  {
   "cell_type": "markdown",
   "metadata": {},
   "source": [
    "<h4>Splitting Feature and Target variables</h4>"
   ]
  },
  {
   "cell_type": "code",
   "execution_count": 41,
   "metadata": {},
   "outputs": [],
   "source": [
    "feature_variables = df.drop('is_legitimate_user', axis=1)  # Features\n",
    "target_variables = df['is_legitimate_user']\n",
    "\n",
    "X_train, X_test, y_train, y_test = train_test_split(feature_variables, target_variables, test_size=0.2, random_state=42)"
   ]
  },
  {
   "cell_type": "markdown",
   "metadata": {},
   "source": [
    "<h4>Initializing LogisticRegression Model</h4>"
   ]
  },
  {
   "cell_type": "code",
   "execution_count": 43,
   "metadata": {},
   "outputs": [
    {
     "data": {
      "text/html": [
       "<style>#sk-container-id-1 {color: black;background-color: white;}#sk-container-id-1 pre{padding: 0;}#sk-container-id-1 div.sk-toggleable {background-color: white;}#sk-container-id-1 label.sk-toggleable__label {cursor: pointer;display: block;width: 100%;margin-bottom: 0;padding: 0.3em;box-sizing: border-box;text-align: center;}#sk-container-id-1 label.sk-toggleable__label-arrow:before {content: \"▸\";float: left;margin-right: 0.25em;color: #696969;}#sk-container-id-1 label.sk-toggleable__label-arrow:hover:before {color: black;}#sk-container-id-1 div.sk-estimator:hover label.sk-toggleable__label-arrow:before {color: black;}#sk-container-id-1 div.sk-toggleable__content {max-height: 0;max-width: 0;overflow: hidden;text-align: left;background-color: #f0f8ff;}#sk-container-id-1 div.sk-toggleable__content pre {margin: 0.2em;color: black;border-radius: 0.25em;background-color: #f0f8ff;}#sk-container-id-1 input.sk-toggleable__control:checked~div.sk-toggleable__content {max-height: 200px;max-width: 100%;overflow: auto;}#sk-container-id-1 input.sk-toggleable__control:checked~label.sk-toggleable__label-arrow:before {content: \"▾\";}#sk-container-id-1 div.sk-estimator input.sk-toggleable__control:checked~label.sk-toggleable__label {background-color: #d4ebff;}#sk-container-id-1 div.sk-label input.sk-toggleable__control:checked~label.sk-toggleable__label {background-color: #d4ebff;}#sk-container-id-1 input.sk-hidden--visually {border: 0;clip: rect(1px 1px 1px 1px);clip: rect(1px, 1px, 1px, 1px);height: 1px;margin: -1px;overflow: hidden;padding: 0;position: absolute;width: 1px;}#sk-container-id-1 div.sk-estimator {font-family: monospace;background-color: #f0f8ff;border: 1px dotted black;border-radius: 0.25em;box-sizing: border-box;margin-bottom: 0.5em;}#sk-container-id-1 div.sk-estimator:hover {background-color: #d4ebff;}#sk-container-id-1 div.sk-parallel-item::after {content: \"\";width: 100%;border-bottom: 1px solid gray;flex-grow: 1;}#sk-container-id-1 div.sk-label:hover label.sk-toggleable__label {background-color: #d4ebff;}#sk-container-id-1 div.sk-serial::before {content: \"\";position: absolute;border-left: 1px solid gray;box-sizing: border-box;top: 0;bottom: 0;left: 50%;z-index: 0;}#sk-container-id-1 div.sk-serial {display: flex;flex-direction: column;align-items: center;background-color: white;padding-right: 0.2em;padding-left: 0.2em;position: relative;}#sk-container-id-1 div.sk-item {position: relative;z-index: 1;}#sk-container-id-1 div.sk-parallel {display: flex;align-items: stretch;justify-content: center;background-color: white;position: relative;}#sk-container-id-1 div.sk-item::before, #sk-container-id-1 div.sk-parallel-item::before {content: \"\";position: absolute;border-left: 1px solid gray;box-sizing: border-box;top: 0;bottom: 0;left: 50%;z-index: -1;}#sk-container-id-1 div.sk-parallel-item {display: flex;flex-direction: column;z-index: 1;position: relative;background-color: white;}#sk-container-id-1 div.sk-parallel-item:first-child::after {align-self: flex-end;width: 50%;}#sk-container-id-1 div.sk-parallel-item:last-child::after {align-self: flex-start;width: 50%;}#sk-container-id-1 div.sk-parallel-item:only-child::after {width: 0;}#sk-container-id-1 div.sk-dashed-wrapped {border: 1px dashed gray;margin: 0 0.4em 0.5em 0.4em;box-sizing: border-box;padding-bottom: 0.4em;background-color: white;}#sk-container-id-1 div.sk-label label {font-family: monospace;font-weight: bold;display: inline-block;line-height: 1.2em;}#sk-container-id-1 div.sk-label-container {text-align: center;}#sk-container-id-1 div.sk-container {/* jupyter's `normalize.less` sets `[hidden] { display: none; }` but bootstrap.min.css set `[hidden] { display: none !important; }` so we also need the `!important` here to be able to override the default hidden behavior on the sphinx rendered scikit-learn.org. See: https://github.com/scikit-learn/scikit-learn/issues/21755 */display: inline-block !important;position: relative;}#sk-container-id-1 div.sk-text-repr-fallback {display: none;}</style><div id=\"sk-container-id-1\" class=\"sk-top-container\"><div class=\"sk-text-repr-fallback\"><pre>LogisticRegression()</pre><b>In a Jupyter environment, please rerun this cell to show the HTML representation or trust the notebook. <br />On GitHub, the HTML representation is unable to render, please try loading this page with nbviewer.org.</b></div><div class=\"sk-container\" hidden><div class=\"sk-item\"><div class=\"sk-estimator sk-toggleable\"><input class=\"sk-toggleable__control sk-hidden--visually\" id=\"sk-estimator-id-1\" type=\"checkbox\" checked><label for=\"sk-estimator-id-1\" class=\"sk-toggleable__label sk-toggleable__label-arrow\">LogisticRegression</label><div class=\"sk-toggleable__content\"><pre>LogisticRegression()</pre></div></div></div></div></div>"
      ],
      "text/plain": [
       "LogisticRegression()"
      ]
     },
     "execution_count": 43,
     "metadata": {},
     "output_type": "execute_result"
    }
   ],
   "source": [
    "## Initializing Logistic regression Model\n",
    "model = LogisticRegression()\n",
    "## Fiting data\n",
    "model.fit(X_train, y_train)"
   ]
  },
  {
   "cell_type": "markdown",
   "metadata": {},
   "source": [
    "<h4>Predicting against test data</h4>"
   ]
  },
  {
   "cell_type": "code",
   "execution_count": 53,
   "metadata": {},
   "outputs": [
    {
     "data": {
      "text/plain": [
       "['./models/user_anamoly_prediction_model.joblib']"
      ]
     },
     "execution_count": 53,
     "metadata": {},
     "output_type": "execute_result"
    }
   ],
   "source": [
    "## Predicting test data\n",
    "y_pred = model.predict(X_test)\n",
    "## saving the offer eligibility scaler model \n",
    "joblib.dump(model, filename=\"./models/user_anamoly_prediction_model.joblib\")"
   ]
  },
  {
   "cell_type": "markdown",
   "metadata": {},
   "source": [
    "<h4>Model Accuracy</h4>"
   ]
  },
  {
   "cell_type": "code",
   "execution_count": 45,
   "metadata": {},
   "outputs": [
    {
     "name": "stdout",
     "output_type": "stream",
     "text": [
      "Accuracy: 0.995\n"
     ]
    }
   ],
   "source": [
    "accuracy = accuracy_score(y_test, y_pred)\n",
    "print(\"Accuracy:\", accuracy)"
   ]
  },
  {
   "cell_type": "markdown",
   "metadata": {},
   "source": [
    "<h4>Testing with custom Inputs</h4>"
   ]
  },
  {
   "cell_type": "code",
   "execution_count": 51,
   "metadata": {},
   "outputs": [
    {
     "data": {
      "text/plain": [
       "array([1, 0, 0])"
      ]
     },
     "execution_count": 51,
     "metadata": {},
     "output_type": "execute_result"
    }
   ],
   "source": [
    "custom_input = [\n",
    "   { \"prefered_device\" : 1, \"registered_ip\" : 1, \"average_spend\" : 1, \"multiple_sessions\" : 0, \"preferred_location\" : 1, \"preferred_category\" : 1 }, ## Checking for a legitimate user\n",
    "   { \"prefered_device\" : 1, \"registered_ip\" : 1, \"average_spend\" : 1, \"multiple_sessions\" : 1, \"preferred_location\" : 1, \"preferred_category\" : 1 }, ## Checking for users with multiple sessions\n",
    "   { \"prefered_device\" : 1, \"registered_ip\" : 0, \"average_spend\" : 0, \"multiple_sessions\" : 0, \"preferred_location\" : 0, \"preferred_category\" : 0 } ## Checking for users with irregular spend wth un preferred category\n",
    "]\n",
    "\n",
    "custom_check_df = pd.DataFrame(columns=[\"prefered_device\",\"registered_ip\",\"average_spend\",\"multiple_sessions\",\"preferred_location\",\"preferred_category\"], data=custom_input)\n",
    "\n",
    "model.predict(custom_check_df)"
   ]
  },
  {
   "cell_type": "code",
   "execution_count": null,
   "metadata": {},
   "outputs": [],
   "source": []
  }
 ],
 "metadata": {
  "kernelspec": {
   "display_name": "Python 3",
   "language": "python",
   "name": "python3"
  },
  "language_info": {
   "codemirror_mode": {
    "name": "ipython",
    "version": 3
   },
   "file_extension": ".py",
   "mimetype": "text/x-python",
   "name": "python",
   "nbconvert_exporter": "python",
   "pygments_lexer": "ipython3",
   "version": "3.9.16"
  },
  "orig_nbformat": 4
 },
 "nbformat": 4,
 "nbformat_minor": 2
}
